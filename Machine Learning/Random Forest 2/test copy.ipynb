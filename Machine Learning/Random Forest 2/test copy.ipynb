{
 "cells": [
  {
   "cell_type": "code",
   "execution_count": 13,
   "metadata": {},
   "outputs": [],
   "source": [
    "import pandas as pd\n",
    "from sklearn.preprocessing import OneHotEncoder\n",
    "from sklearn.compose import ColumnTransformer\n",
    "from sklearn.pipeline import Pipeline\n",
    "from sklearn.impute import SimpleImputer\n",
    "from sklearn.ensemble import RandomForestClassifier\n",
    "from sklearn.model_selection import train_test_split, GridSearchCV\n",
    "from sklearn.metrics import classification_report\n",
    "import joblib\n",
    "import time"
   ]
  },
  {
   "cell_type": "code",
   "execution_count": 14,
   "metadata": {},
   "outputs": [
    {
     "name": "stdout",
     "output_type": "stream",
     "text": [
      "Fitting 5 folds for each of 1 candidates, totalling 5 fits\n"
     ]
    },
    {
     "name": "stderr",
     "output_type": "stream",
     "text": [
      "c:\\Users\\xiang\\miniconda3\\envs\\tf\\lib\\site-packages\\sklearn\\model_selection\\_split.py:776: UserWarning: The least populated class in y has only 1 members, which is less than n_splits=5.\n",
      "  warnings.warn(\n"
     ]
    },
    {
     "name": "stdout",
     "output_type": "stream",
     "text": [
      "Best parameters found:  {}\n",
      "Best cross-validation score:  0.9202803101303569\n",
      "                                                    precision    recall  f1-score   support\n",
      "\n",
      "                         Adjustable Louvred Window       0.82      0.90      0.86        10\n",
      "                              Architectural Column       1.00      1.00      1.00       107\n",
      "                              Cast In-Situ RC Wall       1.00      0.75      0.86        12\n",
      "                                  Compartment Wall       0.00      0.00      0.00         1\n",
      "                                      Curtain Wall       1.00      1.00      1.00        65\n",
      "                                          Dry Wall       0.00      0.00      0.00         2\n",
      "                     Fire Alarm Fixture and Device       1.00      1.00      1.00         6\n",
      "                              Fixed Louvred Window       1.00      1.00      1.00         4\n",
      "                                Fixed Panel Window       1.00      1.00      1.00         3\n",
      "                                      Floor Finish       0.92      1.00      0.96        23\n",
      "General Door Item (including Gate, Roller Shutter)       1.00      1.00      1.00        45\n",
      "                                General Floor Item       0.99      0.99      0.99        74\n",
      "                                 General Roof Item       1.00      1.00      1.00         2\n",
      "                                 General Wall Item       0.80      0.57      0.67         7\n",
      "                               General Window Item       0.93      0.93      0.93        14\n",
      "                        Lightweight Concrete Panel       0.86      1.00      0.92       139\n",
      "                                        Metal Roof       1.00      1.00      1.00         1\n",
      "                                     Parapets Wall       0.86      1.00      0.92         6\n",
      "                             Precast Concrete Wall       0.74      0.44      0.55        39\n",
      "                                     Precast Floor       0.00      0.00      0.00         1\n",
      "                               Precision Blockwall       1.00      1.00      1.00        11\n",
      "                                              Ramp       0.00      0.00      0.00         1\n",
      "                               Screen/Room Divider       1.00      1.00      1.00         2\n",
      "                                  Side-Hung Window       1.00      1.00      1.00         5\n",
      "                                    Sliding Window       1.00      0.71      0.83         7\n",
      "                                   Structural Slab       1.00      1.00      1.00         5\n",
      "                                   Structural Wall       0.80      0.80      0.80         5\n",
      "                                   Top-Hung Window       0.50      1.00      0.67         1\n",
      "                                       Wall Finish       0.67      0.80      0.73         5\n",
      "                                     Wall Skirting       1.00      0.67      0.80         3\n",
      "\n",
      "                                          accuracy                           0.93       606\n",
      "                                         macro avg       0.80      0.79      0.78       606\n",
      "                                      weighted avg       0.92      0.93      0.92       606\n",
      "\n",
      "Total runtime: 1.3203303813934326 seconds\n"
     ]
    },
    {
     "name": "stderr",
     "output_type": "stream",
     "text": [
      "c:\\Users\\xiang\\miniconda3\\envs\\tf\\lib\\site-packages\\sklearn\\metrics\\_classification.py:1517: UndefinedMetricWarning: Precision is ill-defined and being set to 0.0 in labels with no predicted samples. Use `zero_division` parameter to control this behavior.\n",
      "  _warn_prf(average, modifier, f\"{metric.capitalize()} is\", len(result))\n",
      "c:\\Users\\xiang\\miniconda3\\envs\\tf\\lib\\site-packages\\sklearn\\metrics\\_classification.py:1517: UndefinedMetricWarning: Precision is ill-defined and being set to 0.0 in labels with no predicted samples. Use `zero_division` parameter to control this behavior.\n",
      "  _warn_prf(average, modifier, f\"{metric.capitalize()} is\", len(result))\n",
      "c:\\Users\\xiang\\miniconda3\\envs\\tf\\lib\\site-packages\\sklearn\\metrics\\_classification.py:1517: UndefinedMetricWarning: Precision is ill-defined and being set to 0.0 in labels with no predicted samples. Use `zero_division` parameter to control this behavior.\n",
      "  _warn_prf(average, modifier, f\"{metric.capitalize()} is\", len(result))\n"
     ]
    }
   ],
   "source": [
    "# Load the dataset\n",
    "file_path = '../datasets/train_set.csv'\n",
    "train_df = pd.read_csv(file_path)\n",
    "train_df = train_df.drop(columns=['Assembly Code', 'Assembly Description', 'Type Name'])\n",
    "\n",
    "# Define preprocessing for categorical features\n",
    "categorical_features = ['Family', 'SubFamily', 'ObjectGroup', 'ObjectName', 'Description', 'Type Comments', 'Structural Material', 'Material']\n",
    "categorical_transformer = Pipeline(steps=[\n",
    "    ('imputer', SimpleImputer(strategy='constant', fill_value='missing')),\n",
    "    ('onehot', OneHotEncoder(handle_unknown='ignore'))])\n",
    "\n",
    "# Combine preprocessors\n",
    "preprocessor = ColumnTransformer(\n",
    "    transformers=[\n",
    "        ('cat', categorical_transformer, categorical_features)])\n",
    "\n",
    "# Create the model pipeline with a Random Forest Classifier\n",
    "model = Pipeline(steps=[\n",
    "    ('preprocessor', preprocessor),\n",
    "    ('classifier', RandomForestClassifier(random_state=42))  # Random state for reproducibility\n",
    "])\n",
    "\n",
    "# Split the data into training and testing sets\n",
    "X = train_df.drop('Category', axis=1)\n",
    "y = train_df['Category']\n",
    "X_train, X_test, y_train, y_test = train_test_split(X, y, test_size=0.2, random_state=42)\n",
    "\n",
    "# Define parameter grid for GridSearchCV\n",
    "param_grid = {}\n",
    "\n",
    "# Perform grid search with cross-validation\n",
    "grid_search = GridSearchCV(model, param_grid, cv=5, scoring='accuracy', verbose=1)\n",
    "grid_search.fit(X_train, y_train)\n",
    "\n",
    "# Get best parameters and best score\n",
    "print(\"Best parameters found: \", grid_search.best_params_)\n",
    "print(\"Best cross-validation score: \", grid_search.best_score_)\n",
    "\n",
    "# Refit the model on the entire training set with best parameters\n",
    "best_model = grid_search.best_estimator_\n",
    "best_model.fit(X_train, y_train)\n",
    "\n",
    "# Save the trained model to a file\n",
    "model_filename = 'random_forest_model_cross.pkl'\n",
    "joblib.dump(best_model, model_filename)\n",
    "\n",
    "# Predict and evaluate with best model on test set\n",
    "y_pred = best_model.predict(X_test)\n",
    "print(classification_report(y_test, y_pred))\n",
    "\n",
    "# Optional: Print total runtime\n",
    "total_time = grid_search.refit_time_  # This gives the total time for fitting the best model during the grid search\n",
    "print(f\"Total runtime: {total_time} seconds\")\n"
   ]
  }
 ],
 "metadata": {
  "kernelspec": {
   "display_name": "Python 3",
   "language": "python",
   "name": "python3"
  },
  "language_info": {
   "codemirror_mode": {
    "name": "ipython",
    "version": 3
   },
   "file_extension": ".py",
   "mimetype": "text/x-python",
   "name": "python",
   "nbconvert_exporter": "python",
   "pygments_lexer": "ipython3",
   "version": "3.9.19"
  }
 },
 "nbformat": 4,
 "nbformat_minor": 2
}
