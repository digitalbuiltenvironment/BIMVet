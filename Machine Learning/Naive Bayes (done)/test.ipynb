{
 "cells": [
  {
   "cell_type": "code",
   "execution_count": 1,
   "metadata": {},
   "outputs": [],
   "source": [
    "import pandas as pd\n",
    "from sklearn.preprocessing import OneHotEncoder\n",
    "from sklearn.compose import ColumnTransformer\n",
    "from sklearn.pipeline import Pipeline\n",
    "from sklearn.impute import SimpleImputer\n",
    "from sklearn.naive_bayes import MultinomialNB\n",
    "from sklearn.model_selection import train_test_split\n",
    "from sklearn.metrics import classification_report\n",
    "import joblib\n",
    "import time\n",
    "from sklearn.preprocessing import LabelEncoder"
   ]
  },
  {
   "cell_type": "code",
   "execution_count": 2,
   "metadata": {},
   "outputs": [
    {
     "name": "stdout",
     "output_type": "stream",
     "text": [
      "Total runtime: 0.03823280334472656 seconds\n",
      "              precision    recall  f1-score   support\n",
      "\n",
      "           0       1.00      0.20      0.33        10\n",
      "           1       0.84      1.00      0.91       107\n",
      "           3       1.00      0.08      0.15        12\n",
      "           4       0.00      0.00      0.00         1\n",
      "           6       0.79      1.00      0.88        65\n",
      "           7       0.00      0.00      0.00         2\n",
      "           8       1.00      0.17      0.29         6\n",
      "          10       1.00      1.00      1.00         4\n",
      "          11       0.00      0.00      0.00         3\n",
      "          12       1.00      0.70      0.82        23\n",
      "          14       0.96      1.00      0.98        45\n",
      "          15       0.84      1.00      0.91        74\n",
      "          16       0.00      0.00      0.00         2\n",
      "          18       0.00      0.00      0.00         7\n",
      "          19       1.00      0.29      0.44        14\n",
      "          20       0.71      1.00      0.83       139\n",
      "          21       0.00      0.00      0.00         1\n",
      "          22       1.00      0.50      0.67         6\n",
      "          24       0.71      0.31      0.43        39\n",
      "          25       0.00      0.00      0.00         1\n",
      "          26       1.00      1.00      1.00        11\n",
      "          27       0.00      0.00      0.00         1\n",
      "          28       0.00      0.00      0.00         2\n",
      "          29       0.00      0.00      0.00         5\n",
      "          30       1.00      0.57      0.73         7\n",
      "          31       0.00      0.00      0.00         5\n",
      "          32       0.00      0.00      0.00         5\n",
      "          33       0.00      0.00      0.00         1\n",
      "          34       1.00      0.20      0.33         5\n",
      "          35       0.00      0.00      0.00         3\n",
      "\n",
      "    accuracy                           0.81       606\n",
      "   macro avg       0.49      0.33      0.36       606\n",
      "weighted avg       0.78      0.81      0.75       606\n",
      "\n"
     ]
    },
    {
     "name": "stderr",
     "output_type": "stream",
     "text": [
      "c:\\Users\\xiang\\miniconda3\\envs\\tf\\lib\\site-packages\\sklearn\\metrics\\_classification.py:1517: UndefinedMetricWarning: Precision is ill-defined and being set to 0.0 in labels with no predicted samples. Use `zero_division` parameter to control this behavior.\n",
      "  _warn_prf(average, modifier, f\"{metric.capitalize()} is\", len(result))\n",
      "c:\\Users\\xiang\\miniconda3\\envs\\tf\\lib\\site-packages\\sklearn\\metrics\\_classification.py:1517: UndefinedMetricWarning: Precision is ill-defined and being set to 0.0 in labels with no predicted samples. Use `zero_division` parameter to control this behavior.\n",
      "  _warn_prf(average, modifier, f\"{metric.capitalize()} is\", len(result))\n",
      "c:\\Users\\xiang\\miniconda3\\envs\\tf\\lib\\site-packages\\sklearn\\metrics\\_classification.py:1517: UndefinedMetricWarning: Precision is ill-defined and being set to 0.0 in labels with no predicted samples. Use `zero_division` parameter to control this behavior.\n",
      "  _warn_prf(average, modifier, f\"{metric.capitalize()} is\", len(result))\n"
     ]
    }
   ],
   "source": [
    "# Load the dataset\n",
    "file_path = '../datasets/train_set.csv'\n",
    "train_df = pd.read_csv(file_path)\n",
    "train_df = train_df.drop(columns=['Assembly Code', 'Assembly Description', 'Type Name'])\n",
    "\n",
    "# Start timing\n",
    "start_time = time.time()\n",
    "# Define preprocessing for categorical features\n",
    "categorical_features = ['Family', 'SubFamily', 'ObjectGroup', 'ObjectName', 'Description', 'Type Comments', 'Structural Material', 'Material']\n",
    "categorical_transformer = Pipeline(steps=[\n",
    "    ('imputer', SimpleImputer(strategy='constant', fill_value='missing')),\n",
    "    ('onehot', OneHotEncoder(handle_unknown='ignore'))])\n",
    "\n",
    "# Combine preprocessors\n",
    "preprocessor = ColumnTransformer(\n",
    "    transformers=[\n",
    "        ('cat', categorical_transformer, categorical_features)])\n",
    "\n",
    "# Create the model pipeline with a Random Forest Classifier\n",
    "model = Pipeline(steps=[('preprocessor', preprocessor),\n",
    "                        ('classifier', MultinomialNB())])\n",
    "\n",
    "# Split the data into training and testing sets\n",
    "X = train_df.drop('Category', axis=1)\n",
    "y = train_df['Category']\n",
    "X_train, X_test, y_train, y_test = train_test_split(X, y, test_size=0.2, random_state=42)\n",
    "\n",
    "label_encoder = LabelEncoder()\n",
    "y_train_encoded = label_encoder.fit_transform(y_train)\n",
    "\n",
    "# Train the model\n",
    "model.fit(X_train, y_train_encoded)\n",
    "\n",
    "# Save the trained model to a file\n",
    "model_filename = 'nb.pkl'\n",
    "joblib.dump(model, model_filename)\n",
    "\n",
    "# End timing\n",
    "end_time = time.time()\n",
    "\n",
    "# Calculate total runtime\n",
    "total_time = end_time - start_time\n",
    "print(f\"Total runtime: {total_time} seconds\")\n",
    "\n",
    "# Predict and evaluate the model\n",
    "y_pred = model.predict(X_test)\n",
    "y_test_encoded = label_encoder.transform(y_test)\n",
    "print(classification_report(y_test_encoded, y_pred))"
   ]
  }
 ],
 "metadata": {
  "kernelspec": {
   "display_name": "Python 3",
   "language": "python",
   "name": "python3"
  },
  "language_info": {
   "codemirror_mode": {
    "name": "ipython",
    "version": 3
   },
   "file_extension": ".py",
   "mimetype": "text/x-python",
   "name": "python",
   "nbconvert_exporter": "python",
   "pygments_lexer": "ipython3",
   "version": "3.9.19"
  }
 },
 "nbformat": 4,
 "nbformat_minor": 2
}
