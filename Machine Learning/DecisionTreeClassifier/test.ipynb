{
 "cells": [
  {
   "cell_type": "code",
   "execution_count": 3,
   "metadata": {},
   "outputs": [],
   "source": [
    "import pandas as pd\n",
    "from sklearn.preprocessing import OneHotEncoder\n",
    "from sklearn.compose import ColumnTransformer\n",
    "from sklearn.pipeline import Pipeline\n",
    "from sklearn.impute import SimpleImputer\n",
    "from sklearn.tree import DecisionTreeClassifier\n",
    "from sklearn.model_selection import train_test_split\n",
    "from sklearn.metrics import classification_report\n",
    "import joblib\n",
    "import time"
   ]
  },
  {
   "cell_type": "code",
   "execution_count": 4,
   "metadata": {},
   "outputs": [
    {
     "name": "stdout",
     "output_type": "stream",
     "text": [
      "Total runtime: 0.11852860450744629 seconds\n",
      "                                                    precision    recall  f1-score   support\n",
      "\n",
      "                         Adjustable Louvred Window       1.00      0.90      0.95        10\n",
      "                              Architectural Column       1.00      1.00      1.00       107\n",
      "                              Cast In-Situ RC Wall       1.00      0.75      0.86        12\n",
      "                                  Compartment Wall       0.00      0.00      0.00         1\n",
      "                                      Curtain Wall       1.00      1.00      1.00        65\n",
      "                                          Dry Wall       0.00      0.00      0.00         2\n",
      "                     Fire Alarm Fixture and Device       1.00      1.00      1.00         6\n",
      "                              Fixed Louvred Window       1.00      1.00      1.00         4\n",
      "                                Fixed Panel Window       1.00      1.00      1.00         3\n",
      "                                      Floor Finish       0.96      0.96      0.96        23\n",
      "General Door Item (including Gate, Roller Shutter)       1.00      1.00      1.00        45\n",
      "                                General Floor Item       0.97      0.99      0.98        74\n",
      "                                 General Roof Item       1.00      1.00      1.00         2\n",
      "                                 General Wall Item       0.80      0.57      0.67         7\n",
      "                               General Window Item       0.88      1.00      0.93        14\n",
      "                        Lightweight Concrete Panel       0.86      1.00      0.93       139\n",
      "                                        Metal Roof       1.00      1.00      1.00         1\n",
      "                                     Parapets Wall       0.86      1.00      0.92         6\n",
      "                             Precast Concrete Wall       0.71      0.44      0.54        39\n",
      "                                     Precast Floor       1.00      1.00      1.00         1\n",
      "                               Precision Blockwall       1.00      1.00      1.00        11\n",
      "                                              Ramp       0.00      0.00      0.00         1\n",
      "                               Screen/Room Divider       1.00      1.00      1.00         2\n",
      "                                  Side-Hung Window       1.00      1.00      1.00         5\n",
      "                                    Sliding Window       1.00      0.71      0.83         7\n",
      "                                   Structural Slab       1.00      1.00      1.00         5\n",
      "                                   Structural Wall       0.80      0.80      0.80         5\n",
      "                                   Top-Hung Window       0.50      1.00      0.67         1\n",
      "                                       Wall Finish       0.67      0.80      0.73         5\n",
      "                                     Wall Skirting       1.00      0.67      0.80         3\n",
      "\n",
      "                                          accuracy                           0.93       606\n",
      "                                         macro avg       0.83      0.82      0.82       606\n",
      "                                      weighted avg       0.93      0.93      0.93       606\n",
      "\n"
     ]
    },
    {
     "name": "stderr",
     "output_type": "stream",
     "text": [
      "c:\\Users\\xiang\\miniconda3\\envs\\tf\\lib\\site-packages\\sklearn\\metrics\\_classification.py:1517: UndefinedMetricWarning: Precision is ill-defined and being set to 0.0 in labels with no predicted samples. Use `zero_division` parameter to control this behavior.\n",
      "  _warn_prf(average, modifier, f\"{metric.capitalize()} is\", len(result))\n",
      "c:\\Users\\xiang\\miniconda3\\envs\\tf\\lib\\site-packages\\sklearn\\metrics\\_classification.py:1517: UndefinedMetricWarning: Precision is ill-defined and being set to 0.0 in labels with no predicted samples. Use `zero_division` parameter to control this behavior.\n",
      "  _warn_prf(average, modifier, f\"{metric.capitalize()} is\", len(result))\n",
      "c:\\Users\\xiang\\miniconda3\\envs\\tf\\lib\\site-packages\\sklearn\\metrics\\_classification.py:1517: UndefinedMetricWarning: Precision is ill-defined and being set to 0.0 in labels with no predicted samples. Use `zero_division` parameter to control this behavior.\n",
      "  _warn_prf(average, modifier, f\"{metric.capitalize()} is\", len(result))\n"
     ]
    }
   ],
   "source": [
    "# Load the dataset\n",
    "file_path = '../datasets/train_set.csv'\n",
    "train_df = pd.read_csv(file_path)\n",
    "train_df = train_df.drop(columns=['Assembly Code', 'Assembly Description', 'Type Name'])\n",
    "\n",
    "# Start timing\n",
    "start_time = time.time()\n",
    "# Define preprocessing for categorical features\n",
    "categorical_features = ['Family', 'SubFamily', 'ObjectGroup', 'ObjectName', 'Description', 'Type Comments', 'Structural Material', 'Material']\n",
    "categorical_transformer = Pipeline(steps=[\n",
    "    ('imputer', SimpleImputer(strategy='constant', fill_value='missing')),\n",
    "    ('onehot', OneHotEncoder(handle_unknown='ignore'))])\n",
    "\n",
    "# Combine preprocessors\n",
    "preprocessor = ColumnTransformer(\n",
    "    transformers=[\n",
    "        ('cat', categorical_transformer, categorical_features)])\n",
    "\n",
    "# Create the model pipeline with a Random Forest Classifier\n",
    "model = Pipeline(steps=[('preprocessor', preprocessor),\n",
    "                        ('classifier', DecisionTreeClassifier())])\n",
    "\n",
    "# Split the data into training and testing sets\n",
    "X = train_df.drop('Category', axis=1)\n",
    "y = train_df['Category']\n",
    "X_train, X_test, y_train, y_test = train_test_split(X, y, test_size=0.2, random_state=42)\n",
    "\n",
    "# Train the model\n",
    "model.fit(X_train, y_train)\n",
    "\n",
    "# Save the trained model to a file\n",
    "model_filename = 'decision_tree.pkl'\n",
    "joblib.dump(model, model_filename)\n",
    "\n",
    "# End timing\n",
    "end_time = time.time()\n",
    "\n",
    "# Calculate total runtime\n",
    "total_time = end_time - start_time\n",
    "print(f\"Total runtime: {total_time} seconds\")\n",
    "\n",
    "# Predict and evaluate the model\n",
    "y_pred = model.predict(X_test)\n",
    "print(classification_report(y_test, y_pred))"
   ]
  }
 ],
 "metadata": {
  "kernelspec": {
   "display_name": "Python 3",
   "language": "python",
   "name": "python3"
  },
  "language_info": {
   "codemirror_mode": {
    "name": "ipython",
    "version": 3
   },
   "file_extension": ".py",
   "mimetype": "text/x-python",
   "name": "python",
   "nbconvert_exporter": "python",
   "pygments_lexer": "ipython3",
   "version": "3.9.19"
  }
 },
 "nbformat": 4,
 "nbformat_minor": 2
}
